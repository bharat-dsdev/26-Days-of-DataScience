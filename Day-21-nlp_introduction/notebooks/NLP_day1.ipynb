{
 "cells": [
  {
   "cell_type": "markdown",
   "metadata": {},
   "source": [
    "![](../images/26-weeks-of-data-science-banner.jpg)"
   ]
  },
  {
   "cell_type": "markdown",
   "metadata": {
    "slideshow": {
     "slide_type": "slide"
    }
   },
   "source": [
    "<h1 align=\"center\"> Natural Language Processing </h1>"
   ]
  },
  {
   "cell_type": "markdown",
   "metadata": {
    "collapsed": true
   },
   "source": [
    "## Program so far \n",
    "***\n",
    "\n",
    "* Python\n",
    "* Statistics\n",
    "* Supervised Machine Learning\n",
    "* Unsupervised Machine Learning"
   ]
  },
  {
   "cell_type": "markdown",
   "metadata": {
    "collapsed": true
   },
   "source": [
    "## Agenda for NLP\n",
    "***\n",
    "Learn how to leverage machine learning techniques we have learnt so far to analyze Natural Languages. We are going to cover techniques like:\n",
    "\n",
    "-  What is NLP?\t\n",
    "-  Sentence Segmentation\n",
    "-  Tokenization\n",
    "-  StopWords\n",
    "-  Stemming & Lemmatization.\n",
    "-  Word Cloud\n",
    "-  Implementations Of NLP Applications\n",
    "-  Text processing using sklearn\n",
    "\t- Bag of Words Approach\n",
    "\t- Model Building using  TF-IDF Vectorizer\n",
    "\t- Applications of Bag of Words\n",
    "\t- Limitations of Bag of Words"
   ]
  },
  {
   "cell_type": "markdown",
   "metadata": {},
   "source": [
    "## What is NLP?\n",
    "\n",
    "Well, Wikipedia quotes:\n",
    "\n",
    ">Natural language processing (NLP) is a field of computer science, artificial intelligence and computational linguistics concerned with the interactions between computers and human (natural) languages, and, in particular, concerned with programming computers to fruitfully process large natural language corpora. \n",
    "\n",
    "Human language is highly ambiguous… It is also ever changing and evolving. People are great at producing language and understanding language, and are capable of expressing, perceiving, and interpreting very elaborate and nuanced meanings. At the same time, while we humans are great users of language, we are also very poor at formally understanding and describing the rules that govern language.\n",
    "\n",
    "NLP is an ongoing attempt to capture those structures and rules."
   ]
  },
  {
   "cell_type": "markdown",
   "metadata": {},
   "source": [
    "\n",
    "[Lifewire](https://www.lifewire.com/applications-of-natural-language-processing-technology-2495544) has an elaborate article on the applications of NLP. NLP is being used extensively in areas you can and can't imagine. Some examples are:\n",
    "\n",
    "1. Spam detections\n",
    "2. Chat bots\n",
    "- Recommender systems\n",
    "3. Sentiment analysis\n",
    "4. Information extraction\n",
    "5. And many more"
   ]
  },
  {
   "cell_type": "markdown",
   "metadata": {},
   "source": [
    "So let's start our journey with NLP. Here is an interesting challenge we are going to tackle.\n",
    "\n",
    "We are going to work with data called `Reuter_50_50 Data Set`. It is a combination of 50 datasets. Each dataset is named after an author's name and each dataset contains 50 articles from the respective author. "
   ]
  },
  {
   "cell_type": "markdown",
   "metadata": {},
   "source": [
    "The problem that we are going to attempt is to use this data is to predict the author given an unknown article. Seems interesting, isn't it? Well, it is. \n",
    "\n",
    "Generally, as writers, we all follow certain style; things like kind of words we use, length of the sentences we write, how do we use punctuations etc. We are going to use these to predict the author."
   ]
  },
  {
   "cell_type": "markdown",
   "metadata": {},
   "source": [
    "Let's start by importing the docs."
   ]
  },
  {
   "cell_type": "code",
   "execution_count": 1,
   "metadata": {
    "scrolled": true
   },
   "outputs": [
    {
     "data": {
      "text/plain": [
       "['JoeOrtiz',\n",
       " 'JanLopatka',\n",
       " 'KouroshKarimkhany',\n",
       " 'PeterHumphrey',\n",
       " 'ScottHillis',\n",
       " 'PatriciaCommins',\n",
       " 'FumikoFujisaki',\n",
       " 'LynnleyBrowning',\n",
       " 'JonathanBirt',\n",
       " 'MarkBendeich',\n",
       " 'KeithWeir',\n",
       " 'MartinWolk',\n",
       " 'AaronPressman',\n",
       " 'GrahamEarnshaw',\n",
       " 'JoWinterbottom',\n",
       " 'TanEeLyn',\n",
       " 'RogerFillion',\n",
       " 'BenjaminKangLim',\n",
       " 'RobinSidel',\n",
       " 'BernardHickey',\n",
       " 'KevinMorrison',\n",
       " 'SamuelPerry',\n",
       " 'DarrenSchuettler',\n",
       " 'JaneMacartney',\n",
       " 'TimFarrand',\n",
       " 'MichaelConnor',\n",
       " \"LynneO'Donnell\",\n",
       " 'SimonCowell',\n",
       " 'BradDorfman',\n",
       " 'MarcelMichelson',\n",
       " 'AlexanderSmith',\n",
       " 'LydiaZajc',\n",
       " 'JimGilchrist',\n",
       " 'KevinDrawbaugh',\n",
       " 'ToddNissen',\n",
       " 'MureDickie',\n",
       " 'EdnaFernandes',\n",
       " 'DavidLawder',\n",
       " 'KirstinRidley',\n",
       " 'NickLouth',\n",
       " 'PierreTran',\n",
       " 'WilliamKazer',\n",
       " 'MatthewBunce',\n",
       " 'AlanCrosby',\n",
       " 'EricAuchard',\n",
       " 'KarlPenhaul',\n",
       " 'TheresePoletti',\n",
       " 'SarahDavison',\n",
       " 'HeatherScoffield',\n",
       " 'JohnMastrini']"
      ]
     },
     "execution_count": 1,
     "metadata": {},
     "output_type": "execute_result"
    }
   ],
   "source": [
    "import os\n",
    "os.listdir(\"../data/C50train\")"
   ]
  },
  {
   "cell_type": "code",
   "execution_count": 2,
   "metadata": {},
   "outputs": [
    {
     "data": {
      "text/plain": [
       "'A break-in at the U.S. Justice Department\\'s World Wide Web site last week highlighted the Internet\\'s continued vulnerability to hackers.\\nUnidentified hackers gained access to the department\\'s web page on August 16 and replaced it with a hate-filled diatribe labelled the \"Department of Injustice\" that included a swastika and a picture of Adolf Hitler.\\nJustice officials quickly pulled the plug on the vandalised page, but the security flaws that allowed hackers to gain entry likely exist in thousands of other corporate and government web sites, security experts said.\\n\"The vast majority of sites are vulnerable,\" said Richard Power, senior analyst at the Computer Security Institute. \"The Justice Department shouldn\\'t be singled out.\"\\nJustice Department officials said the compromised web site was not connected to any computers containing sensitive files. The web site (http://www.usdoj.gov) included copies of press releases, speeches and other publicly available information.\\nThe security breach \"is just like graffiti on the outside of the building,\" spokesman Bert Brandenburg said.\\nOther organisations have been targeted in the past. Last year, the Nation of Islam\\'s Million Man March web site was vandalised. And hackers make 250,000 attempts annually to break into U.S. military computers, according to a General Accounting Office report.\\nWindows Magazine recently found security flaws at web sites of a dozen major corporations. \"The web is spectacularly insecure,\" editor Mike Elgan said. Relying on security holes that had been documented by software manufacturers months earlier, the magazine\\'s specialists were able to gain various degrees of unauthorised access at the different sites.\\nElgan said hackers who are exploiting some of the same flaws are motivated by anger over the growth and commercialization of the Internet. \"A common theme is that hackers are fed up with non-hackers on the Internet,\" he said.\\nThe battle is not completely hopeless. \"You can secure a web site,\" Richard Power said. \"There\\'s all kinds of measures you can take. Most corporations and institutions don\\'t take them simply because nothing bad has happened to them yet.\"\\nSome sites are using multiple layers of security, well beyond simple password protection, to keep hackers out.\\nOne site mentioned by Windows Magazine was Fidelity Investments. Fidelity\\'s site advertises its mutual funds and disseminates information about personal finance but does not contain confidential customer information.\\nFidelity officials immediately closed the loophole identified by the magazine, a spokeswoman said. But multiple security measures previously in place would have prevented a security breach despite the hole, the spokeswoman added.\\n'"
      ]
     },
     "execution_count": 2,
     "metadata": {},
     "output_type": "execute_result"
    }
   ],
   "source": [
    "#Lets look into of the article by one of the author and experiment with some NLP tasks\n",
    "f = open(\"../data/C50train/AaronPressman/2537newsML.txt\")\n",
    "f.read()"
   ]
  },
  {
   "cell_type": "markdown",
   "metadata": {},
   "source": [
    "## We told you so!\n",
    "***\n",
    "\n",
    "Now the question is what to do with all the text we have got? One way is to feed the text as a feature to a ML algorithm and try to predict the target variable.\n",
    "\n",
    "But that would be known as **Supreme Overfitting**. Can you explain why?\n",
    "\n",
    "Remember **Feature Engineering** session of your machine learning module? We told you: \"This is one of the most important aspect of ML problem solving.\" Now you'll understand why."
   ]
  },
  {
   "cell_type": "markdown",
   "metadata": {},
   "source": [
    "## NLP and Feature engineering:\n",
    "\n",
    "Much of NLP falls under the domain of feature engineering and feature selection. The idea is to take the raw text and turn into something which can be utilized by a ML algorithm to carry out prediction.\n",
    "\n",
    "So the question is how to do feature engineering on text."
   ]
  },
  {
   "cell_type": "markdown",
   "metadata": {},
   "source": [
    "## Sentence Segmentation\n",
    "\n",
    "The first level of conquering we will do is by breaking the articles into sentences. \n",
    "\n",
    "Often we have to do analysis at sentences level. For example, let's say in this problem we want to check **number of sentences in an article** and **number of words in a sentence**. Or we want to see how many times an author uses **punctuations in a sentence**. Even specific things like **how many capital letters he uses in a sentence.** We can think of many such features."
   ]
  },
  {
   "cell_type": "markdown",
   "metadata": {},
   "source": [
    "## Sentence Segmentation\n",
    "\n",
    "It might look simple to split text by a period(.), but we often use period within text as well e.g. Mr. Modi. There are many other variations that could be there for which we have account for. For example, question marks (?), exclamations (!) and so on.\n",
    "\n",
    "This could get cumbersome. Thankfully there is a python library called **`NLTK`** which specializes in all sorts of NLP operations. For example, NLTK comes with a trained model to do sentence segmentation. We will discover many others  along the way. But for now, let's start with importing the library."
   ]
  },
  {
   "cell_type": "code",
   "execution_count": 3,
   "metadata": {},
   "outputs": [
    {
     "name": "stdout",
     "output_type": "stream",
     "text": [
      "A break-in at the U.S. Justice Department's World Wide Web site last week highlighted the Internet's continued vulnerability to hackers.\n",
      "Unidentified hackers gained access to the department's web page on August 16 and replaced it with a hate-filled diatribe labelled the \"Department of Injustice\" that included a swastika and a picture of Adolf Hitler.\n",
      "Justice officials quickly pulled the plug on the vandalised page, but the security flaws that allowed hackers to gain entry likely exist in thousands of other corporate and government web sites, security experts said.\n",
      "\"The vast majority of sites are vulnerable,\" said Richard Power, senior analyst at the Computer Security Institute.\n",
      "\"The Justice Department shouldn't be singled out.\"\n"
     ]
    }
   ],
   "source": [
    "#NLTK is famous package in python for carry out NLP tasks. Though there are other options also available such as Spacy, TextBlob etc\n",
    "import nltk\n",
    "\n",
    "text=open(\"../data/C50train/AaronPressman/2537newsML.txt\").read()\n",
    "sents = nltk.sent_tokenize(text)  ## Easy sentence tokenization\n",
    "print(\"\\n\".join(sents[:5]))"
   ]
  },
  {
   "cell_type": "markdown",
   "metadata": {},
   "source": [
    "## Tokenization\n",
    "\n",
    "Next, We tokenize. Tokenization breaks unstructured data, text, into chunks of information which can be counted as discrete elements.\n",
    "This immediately turns an unstructured string (text document) into a more usable data, which can  be further structured,and made more suitable for machine learning."
   ]
  },
  {
   "cell_type": "markdown",
   "metadata": {},
   "source": [
    "## Tokenization\n",
    "\n",
    "-  Tokenization segments a document into its atomic elements (tokens). Tokens are generally split by space or punctuations.\n",
    "-  Typically, tokens are the words.\n",
    "-  Sometimes, based over our application, we can treat punctuations as tokens as well. For example, for author identification we want to have a feature, <i>number of punctuations<i>.\n",
    "-  Number of tokens in a sentence can be used as a feature.\n",
    "-  Kind of tokens(words) used in text itself can be a feature. For example, some author may use word basically, additionally etc. "
   ]
  },
  {
   "cell_type": "markdown",
   "metadata": {},
   "source": [
    "Let's employ a simple tokenizer which will match any word characters until it reaches a non-word character, like white a space"
   ]
  },
  {
   "cell_type": "code",
   "execution_count": 4,
   "metadata": {},
   "outputs": [
    {
     "data": {
      "text/plain": [
       "['A',\n",
       " 'break',\n",
       " 'in',\n",
       " 'at',\n",
       " 'the',\n",
       " 'U',\n",
       " 'S',\n",
       " 'Justice',\n",
       " 'Department',\n",
       " 's',\n",
       " 'World',\n",
       " 'Wide',\n",
       " 'Web',\n",
       " 'site',\n",
       " 'last',\n",
       " 'week',\n",
       " 'highlighted',\n",
       " 'the',\n",
       " 'Internet',\n",
       " 's',\n",
       " 'continued',\n",
       " 'vulnerability',\n",
       " 'to',\n",
       " 'hackers']"
      ]
     },
     "execution_count": 4,
     "metadata": {},
     "output_type": "execute_result"
    }
   ],
   "source": [
    "from nltk.tokenize import RegexpTokenizer\n",
    "tokenizer = RegexpTokenizer(r'\\w+')\n",
    "tokenizer.tokenize(sents[0])"
   ]
  },
  {
   "cell_type": "markdown",
   "metadata": {},
   "source": [
    "- As you can see,this can cause problems for words like don’t which will be read as two tokens - don and t.\n",
    "- There are better tokenisers available like `TreeBankWordTokenizer` which would break words like don't into do and n't\n",
    "- NLTK provides a number of pre-constructed tokenizers. Let's see one of those."
   ]
  },
  {
   "cell_type": "code",
   "execution_count": 5,
   "metadata": {},
   "outputs": [
    {
     "name": "stdout",
     "output_type": "stream",
     "text": [
      "['A', 'break-in', 'at', 'the', 'U.S.', 'Justice', 'Department', \"'s\", 'World', 'Wide', 'Web', 'site', 'last', 'week', 'highlighted', 'the', 'Internet', \"'s\", 'continued', 'vulnerability', 'to', 'hackers', '.']\n"
     ]
    }
   ],
   "source": [
    "from nltk import word_tokenize\n",
    "tokens = word_tokenize(sents[0])\n",
    "print(tokens)"
   ]
  },
  {
   "cell_type": "markdown",
   "metadata": {},
   "source": [
    "## StopWords\n",
    "\n",
    "Consider words like a, an, the, be etc. These words don't add any extra information in a sentence. Such words can often create noise while modeling. Such words are known as **Stop Words**.\n",
    "\n",
    "Generally there is a standard list of stop words and that list is also included within the NLTK. However, it also comes with a lot of corpora (a corpus is specialized knowldege for a specific domain/problem. e.g. gender names, location names, or author notes), Which are useful in special cases. We need to download these corpus explicitly along with nltk. This can be done through `nltk.download()` "
   ]
  },
  {
   "cell_type": "code",
   "execution_count": 6,
   "metadata": {},
   "outputs": [
    {
     "name": "stdout",
     "output_type": "stream",
     "text": [
      "{\"needn't\", 'some', 'does', 'than', 'isn', 'weren', 'it', 'out', \"weren't\", 'who', \"shan't\", 'when', 'm', 'an', 'wasn', 'from', 'such', 'those', 'a', 'do', 'off', 'y', \"you've\", \"you'll\", 'by', 'yourself', 'are', 'himself', 'with', 'he', \"shouldn't\", 'this', 'had', 'so', 'hasn', 'has', 'above', 'can', \"aren't\", \"that'll\", 'down', 'aren', 'should', 'in', 'that', 'as', 'doing', 'itself', 'same', 'am', 'having', 'hers', 'below', 'herself', 'between', 'them', 'why', 'but', 'your', 'doesn', 'again', 'll', 'these', 'its', 'most', \"haven't\", 'other', 'then', 't', 'few', 'too', 'ma', 'if', 'don', 'or', 'wouldn', 'was', 'further', 'her', 'been', 'during', 'all', \"couldn't\", 'which', 'now', 'to', \"hadn't\", 'theirs', \"hasn't\", 'yourselves', 'didn', 'under', 'will', 'against', \"she's\", 'ours', 'about', 'myself', 'not', \"you're\", 'won', 'and', \"didn't\", 'after', 'were', 'his', 'we', 'my', \"don't\", 'the', 'mustn', 'up', 'did', 'their', 'only', 're', 'both', 'hadn', 'into', 'shan', 'ain', 'nor', 'they', 'while', 'haven', 'what', 'until', \"mightn't\", 'each', \"wasn't\", 'i', 's', 'mightn', \"you'd\", 'she', 'any', 'own', \"doesn't\", 'whom', 'our', 'once', 'shouldn', 'me', 'needn', \"should've\", 've', 'over', 'couldn', 'of', 'on', 'because', 'no', 'be', 'there', 'you', 'him', 'ourselves', \"isn't\", 'd', 'more', 'yours', 'at', 'o', \"won't\", 'through', 'being', \"mustn't\", \"wouldn't\", 'before', 'here', 'have', 'very', 'for', 'just', \"it's\", 'is', 'themselves', 'where', 'how'}\n"
     ]
    }
   ],
   "source": [
    "from nltk.corpus import stopwords\n",
    "stop_words=set(stopwords.words('english'))\n",
    "print(stop_words)"
   ]
  },
  {
   "cell_type": "code",
   "execution_count": 7,
   "metadata": {},
   "outputs": [
    {
     "name": "stdout",
     "output_type": "stream",
     "text": [
      "['A', 'break-in', 'at', 'the', 'U.S.', 'Justice', 'Department', \"'s\", 'World', 'Wide', 'Web', 'site', 'last', 'week', 'highlighted', 'the', 'Internet', \"'s\", 'continued', 'vulnerability', 'to', 'hackers', '.']\n",
      "=================================================================================\n",
      "['A', 'break-in', 'U.S.', 'Justice', 'Department', \"'s\", 'World', 'Wide', 'Web', 'site', 'last', 'week', 'highlighted', 'Internet', \"'s\", 'continued', 'vulnerability', 'hackers', '.']\n"
     ]
    }
   ],
   "source": [
    "filtered_sentence = [w for w in tokens if not w in stop_words]\n",
    "filtered_sentence = []\n",
    "\n",
    "for w in tokens:\n",
    "    if w not in stop_words:\n",
    "        filtered_sentence.append(w)\n",
    "\n",
    "print(tokens)\n",
    "print(\"=================================================================================\")\n",
    "print(filtered_sentence)"
   ]
  },
  {
   "cell_type": "markdown",
   "metadata": {},
   "source": [
    "-  More often than not, Stop-Words are removed before building models.\n",
    "-  However, sometimes we even uses stop words as a feature as well. For example, in author identification, number of stop words can be used as a feature."
   ]
  },
  {
   "cell_type": "markdown",
   "metadata": {},
   "source": [
    "## Stemming And Lemmatization"
   ]
  },
  {
   "cell_type": "markdown",
   "metadata": {},
   "source": [
    "Consider following words: Copy, copied, copying. \n",
    "\n",
    "Although they represent the same meaning, if not treated, our model might treat them differently. So we tend to strip such words to their core. We can do that by stemming or lemmatisation."
   ]
  },
  {
   "cell_type": "markdown",
   "metadata": {},
   "source": [
    "Stemming and Lemmatization are the basic text processing methods for English text. The goal of both stemming and lemmatization is to reduce inflectional forms and sometimes derivationally related forms of a word to a common base form. \n",
    "\n",
    "-  Stemming helps to create groups of words which have similar meanings.\n",
    "-  Stemming works based over set of rules, such as remove ing if words is ending with ing.\n",
    "-  There are a number of Stemmers available with different set of rules. PorterStemmer, LancasterStemmer, SnowballStemmer etc are example of stemmers and are available in NLTK."
   ]
  },
  {
   "cell_type": "code",
   "execution_count": 8,
   "metadata": {},
   "outputs": [
    {
     "data": {
      "text/plain": [
       "'cri'"
      ]
     },
     "execution_count": 8,
     "metadata": {},
     "output_type": "execute_result"
    }
   ],
   "source": [
    "#-----PorterStemmer------\n",
    "from nltk.stem.porter import PorterStemmer\n",
    "porter_stemmer = PorterStemmer()\n",
    "porter_stemmer.stem(\"crying\")\n"
   ]
  },
  {
   "cell_type": "code",
   "execution_count": 9,
   "metadata": {},
   "outputs": [
    {
     "data": {
      "text/plain": [
       "'cry'"
      ]
     },
     "execution_count": 9,
     "metadata": {},
     "output_type": "execute_result"
    }
   ],
   "source": [
    "#-----LancasterStemmer------\n",
    "from nltk.stem.lancaster import LancasterStemmer\n",
    "lancaster_stemmer = LancasterStemmer()\n",
    "lancaster_stemmer.stem(\"crying\")"
   ]
  },
  {
   "cell_type": "code",
   "execution_count": 10,
   "metadata": {},
   "outputs": [
    {
     "data": {
      "text/plain": [
       "'cri'"
      ]
     },
     "execution_count": 10,
     "metadata": {},
     "output_type": "execute_result"
    }
   ],
   "source": [
    "#-----SnowballStemmer------\n",
    "from nltk.stem import SnowballStemmer\n",
    "snowball_stemmer = SnowballStemmer(\"english\")\n",
    "snowball_stemmer.stem(\"crying\")"
   ]
  },
  {
   "cell_type": "markdown",
   "metadata": {},
   "source": [
    "**Lemmatization** is closely related to Stemming, but difference is lemmatization uses a knowledgebase called WordNet. Because of knowledge, lemmatization can even convert words which are different and cant be solved by stemmers, such as **converting went into go**. The NLTK Lemmatization method is based on WordNet’s built-in morphy function."
   ]
  },
  {
   "cell_type": "code",
   "execution_count": 11,
   "metadata": {},
   "outputs": [
    {
     "name": "stderr",
     "output_type": "stream",
     "text": [
      "[nltk_data] Downloading package wordnet to\n",
      "[nltk_data]     /home/bharatmishra/nltk_data...\n",
      "[nltk_data]   Package wordnet is already up-to-date!\n"
     ]
    },
    {
     "data": {
      "text/plain": [
       "'go'"
      ]
     },
     "execution_count": 11,
     "metadata": {},
     "output_type": "execute_result"
    }
   ],
   "source": [
    "nltk.download('wordnet')\n",
    "from nltk.stem import WordNetLemmatizer\n",
    "wordnet_lemmatizer = WordNetLemmatizer()\n",
    "wordnet_lemmatizer.lemmatize(\"went\", pos=\"v\")"
   ]
  },
  {
   "cell_type": "markdown",
   "metadata": {},
   "source": [
    "## Word Cloud\n",
    "\n",
    "Word CLoud is the EDA equivalent for NLP. Word cloud helps us understand how different words are distributed across the documents. The most occurring words will have larger sizes. "
   ]
  },
  {
   "cell_type": "code",
   "execution_count": 12,
   "metadata": {},
   "outputs": [
    {
     "data": {
      "text/plain": [
       "(-0.5, 399.5, 199.5, -0.5)"
      ]
     },
     "execution_count": 12,
     "metadata": {},
     "output_type": "execute_result"
    },
    {
     "data": {
      "image/png": "[encoded data removed]",
      "text/plain": [
       "<Figure size 720x576 with 1 Axes>"
      ]
     },
     "metadata": {
      "needs_background": "light"
     },
     "output_type": "display_data"
    }
   ],
   "source": [
    "textall = \" \".join(sents)\n",
    "from wordcloud import WordCloud\n",
    "import matplotlib.pyplot as plt\n",
    "%matplotlib inline\n",
    "\n",
    "wordcloud = WordCloud().generate(textall)\n",
    "plt.figure(figsize=(10, 8))\n",
    "plt.imshow(wordcloud, interpolation='bilinear')\n",
    "plt.axis(\"off\")"
   ]
  },
  {
   "cell_type": "markdown",
   "metadata": {},
   "source": [
    "As can be seen, this particular word could strongly suggests that the article is likely to be about cyber security. Plotting and observing a word cloud could unlock potential features and can also avoid pitfalls. For examples, if you see a certain words which should be treated as stop words occurring a lot, then you can take care of them."
   ]
  },
  {
   "cell_type": "markdown",
   "metadata": {},
   "source": [
    "## Implementations Of NLP Applications\n",
    "***\n",
    "\n",
    "Good! What we have learnt so far is the foundation for different types of analysis that can be carried out. The tokens we have created so far can be utilized as needed. Mainly there are 4 kinds different techniques which branch out from here.\n",
    "\n",
    "-  **Regular Expressions Based System:** \n",
    "    - Such as Extracting Dates, Hyperlinks etc.\n",
    "    - These are mostly rule based and mostly used as features for rest of the techniques\n",
    "-  **Machine Learning Based System.** \n",
    "    - Text classification or Clustering or Recommender Systems.\n",
    "    - These techniques use the tokens as features, further refine them to create features of them\n",
    "    \n",
    "- **Linguistics based system/Rule Based System.** \n",
    "    - Such as POS tagging\n",
    "    - Attempts to understand underlying structure of the statements\n",
    "    \n",
    "- **Dictionary lookup based system** \n",
    "    - Such Information Reterieval, or Identifying entites from wikipedia.\n",
    "    - Used to retrieve structured information from unstructured documents\n",
    "    - Creating summaries of given documents\n",
    "\n",
    "Next we are going to look into Machine Learning based NLP applications, wherein we are going to use Sklearn to build a classifier."
   ]
  },
  {
   "cell_type": "markdown",
   "metadata": {},
   "source": [
    "## Text Preprocessing using `sklearn`:\n",
    "\n",
    "\n",
    "### Bag-of-Words Approach:\n",
    "\n",
    "\n",
    "One way to use tokenized words is to create bag of words (tokens) for each observation and find out the frequency of occurring of each token. The underlying assumption is that the article or document will use tokens which are important much more frequently than others. \n",
    "\n",
    "For example, in the word cloud that we saw, since the article seemed to about cyber security, related terms were used more frequently. So if in an article, food related words are used frequently, it can inferred that the article is about food.\n",
    "\n",
    "Note: Considering this, it would make much more sense to remove stopwords, otherwise they will clutter the actual tokens."
   ]
  },
  {
   "cell_type": "markdown",
   "metadata": {},
   "source": [
    "We use this fact, and count the frequency of each term used in an article. We also put together all the tokens in all the documents combined along with their frequency. We call this **The Dictionary of tokens**. Consider the following example.\n",
    "\n",
    "    It was the best of times,\n",
    "    it was the worst of times,\n",
    "    it was the age of wisdom,\n",
    "    it was the age of foolishness,"
   ]
  },
  {
   "cell_type": "markdown",
   "metadata": {},
   "source": [
    "Frequency doc for the first line would look something like:\n",
    "\n",
    "* “it” = 1\n",
    "* “was” = 1\n",
    "* “the” = 1\n",
    "* “best” = 1\n",
    "* “of” = 1\n",
    "* “times” = 1\n",
    "* “worst” = 0\n",
    "* “age” = 0\n",
    "* “wisdom” = 0\n",
    "* “foolishness” = 0"
   ]
  },
  {
   "cell_type": "markdown",
   "metadata": {},
   "source": [
    "To make this more usable, we convert these frequency tables into vectors: [1, 1, 1, 1, 1, 1, 0, 0, 0, 0]\n",
    "\n",
    "Frequency table for the rest of the lines are:\n",
    "\n",
    "* \"it was the worst of times\" = [1, 1, 1, 0, 1, 1, 1, 0, 0, 0]\n",
    "* \"it was the age of wisdom\" = [1, 1, 1, 0, 1, 0, 0, 1, 1, 0]\n",
    "* \"it was the age of foolishness\" = [1, 1, 1, 0, 1, 0, 0, 1, 0, 1]"
   ]
  },
  {
   "cell_type": "markdown",
   "metadata": {},
   "source": [
    "A more sophisticated approach is to also create a vocabulary of grouped words. This both changes the scope of the vocabulary and allows the bag-of-words to capture a little bit more meaning from the document.\n",
    "\n",
    "In this approach, each word or token is called a “gram”. Creating a vocabulary of two-word pairs is, in turn, called a bigram model. Again, only the bigrams that appear in the corpus are modeled, not all possible bigrams\n",
    "\n",
    "For example, the bigrams in the first line of text in the previous section: “It was the best of times” are as follows:\n",
    "\n",
    "* “it was”\n",
    "* “was the”\n",
    "* “the best”\n",
    "* “best of”\n",
    "* “of times”"
   ]
  },
  {
   "cell_type": "markdown",
   "metadata": {},
   "source": [
    "This process of converting NLP text into numbers in called **vectorization** in ML. And there are multiple ways to convert text into vectors.\n",
    "\n",
    "* **Counts.** Count the number of times each word appears in a document.\n",
    "* **Frequencies.** Calculate the frequency that each word appears in a document out of all the words in the document.\n",
    "\n",
    "Based on how we create this scoring, there are following methods:\n",
    "\n",
    "1. **CountVectorizer**: CountVectorizer works on Terms Frequency, i.e. counting the occurrences of tokens and building a sparse matrix of documents vs. tokens.\n",
    "2. **TfIdfVectorizer**: We will cover next\n",
    "\n",
    "For now, let's apply count vectorizer to see how well we can predict author of the article."
   ]
  },
  {
   "cell_type": "code",
   "execution_count": 13,
   "metadata": {},
   "outputs": [],
   "source": [
    "# import and instantiate CountVectorizer (with the default parameters)\n",
    "from sklearn.feature_extraction.text import CountVectorizer, TfidfVectorizer\n",
    "vect = CountVectorizer()"
   ]
  },
  {
   "cell_type": "code",
   "execution_count": 14,
   "metadata": {},
   "outputs": [
    {
     "data": {
      "text/plain": [
       "CountVectorizer(analyzer='word', binary=False, decode_error='strict',\n",
       "                dtype=<class 'numpy.int64'>, encoding='utf-8', input='content',\n",
       "                lowercase=True, max_df=1.0, max_features=None, min_df=1,\n",
       "                ngram_range=(1, 1), preprocessor=None, stop_words=None,\n",
       "                strip_accents=None, token_pattern='(?u)\\\\b\\\\w\\\\w+\\\\b',\n",
       "                tokenizer=None, vocabulary=None)"
      ]
     },
     "execution_count": 14,
     "metadata": {},
     "output_type": "execute_result"
    }
   ],
   "source": [
    "vect"
   ]
  },
  {
   "cell_type": "markdown",
   "metadata": {},
   "source": [
    "So here we can all sort of parameters this vectorizer takes. tokenizer, stop words, encoding, lower case etc. We can tune parameters based over our data set and kind of problem we are trying to solve."
   ]
  },
  {
   "cell_type": "code",
   "execution_count": 15,
   "metadata": {},
   "outputs": [
    {
     "data": {
      "text/plain": [
       "CountVectorizer(analyzer='word', binary=False, decode_error='strict',\n",
       "                dtype=<class 'numpy.int64'>, encoding='utf-8', input='content',\n",
       "                lowercase=True, max_df=0.5, max_features=None, min_df=2,\n",
       "                ngram_range=(1, 2), preprocessor=None, stop_words='english',\n",
       "                strip_accents=None, token_pattern='(?u)\\\\b\\\\w\\\\w+\\\\b',\n",
       "                tokenizer=<bound method TreebankWordTokenizer.tokenize of <nltk.tokenize.treebank.TreebankWordTokenizer object at 0x7f3dfce9bd30>>,\n",
       "                vocabulary=None)"
      ]
     },
     "execution_count": 15,
     "metadata": {},
     "output_type": "execute_result"
    }
   ],
   "source": [
    "# use TreeankWordTokenizer\n",
    "from nltk.tokenize import TreebankWordTokenizer\n",
    "tokenizer = TreebankWordTokenizer()\n",
    "vect.set_params(tokenizer=tokenizer.tokenize)\n",
    "\n",
    "# remove English stop words\n",
    "vect.set_params(stop_words='english')\n",
    "\n",
    "# include 1-grams and 2-grams\n",
    "vect.set_params(ngram_range=(1, 2))\n",
    "\n",
    "# ignore terms that appear in more than 50% of the documents\n",
    "vect.set_params(max_df=0.5)\n",
    "\n",
    "# only keep terms that appear in at least 2 documents\n",
    "vect.set_params(min_df=2)"
   ]
  },
  {
   "cell_type": "markdown",
   "metadata": {},
   "source": [
    "**Note:** vect takes data as rows of text. Hence, we will have to get X_train in that format.\n",
    "So our dataset is not a csv and its a file structure based data. So we have to traverse through files and create a data frame of training data and its labeles, as below. "
   ]
  },
  {
   "cell_type": "markdown",
   "metadata": {},
   "source": [
    "Let's start by importing necessary information."
   ]
  },
  {
   "cell_type": "code",
   "execution_count": 16,
   "metadata": {},
   "outputs": [],
   "source": [
    "import os\n",
    "import numpy as np\n",
    "trainX =np.array([])\n",
    "labels = []\n",
    "path = '../data/C50train/'\n",
    "authors = os.listdir(path)[:10]; "
   ]
  },
  {
   "cell_type": "markdown",
   "metadata": {},
   "source": [
    "Next, we separate out the X and y component from each document. Note that we have replaced new line character (considered as a stop word) with white space."
   ]
  },
  {
   "cell_type": "code",
   "execution_count": 17,
   "metadata": {},
   "outputs": [],
   "source": [
    "for auth in authors:\n",
    "    files = os.listdir(path + auth + '/');\n",
    "    tmpX, tmpY = np.array([]), []\n",
    "    for file in files:\n",
    "        f = open(path + auth + '/' + file, 'r')\n",
    "        data = f.read().replace('\\n', ' ')\n",
    "        tmpX = np.append(tmpX,data)\n",
    "        tmpY = tmpY + [auth]\n",
    "        f.close()\n",
    "    trainX = np.append(trainX, tmpX)\n",
    "    labels = labels + tmpY \n",
    "# print trainX\n",
    "# print labels"
   ]
  },
  {
   "cell_type": "markdown",
   "metadata": {},
   "source": [
    "Below are the first elements from X and y"
   ]
  },
  {
   "cell_type": "code",
   "execution_count": 18,
   "metadata": {},
   "outputs": [
    {
     "name": "stdout",
     "output_type": "stream",
     "text": [
      "Italian business tycoon Silvio Berlusconi on Wednesday lost an appeal in the London High Court against the transfer of documents to Italian authorities investigating allegations of fraud and false accounting. Britain's Serious Fraud Office seized 15 bags of documents in April from the office of London lawyer David Mills who represents the interests of former Italian Prime Minister Berlusconi in Britain. The judges, Lord Justice Simon Brown and Mr Justice Gage, rejected all the grounds of the appeal, but Brown agreed to hear an application by the appellants on Friday morning, which could lead to an appeal to the House of Lords, although legal sources said this was unlikely to succeed. The hearing stemmed from an appeal by Berlusconi, who was Italian Prime Minister for seven months in 1994 and is on trial in Milan on corruption charges, his company Fininvest and company president Fedele Confalonieri against a court ruling earlier this year that the papers should be sent to Italy. Brown said the papers were linked to fraud and false accounting allegations amounting to 51 million pounds ($82 million) which had been \"surreptitiously removed from Fininvest and used for criminal purposes.\" He noted that prosecutions were already underway in Italy against Berlusconi for bribing Revenue inspectors and for making illicit donations to former Prime Minister Bettino Craxi. Italian investigators suspect Berlusconi who, among other holdings, owns three TV channels and the football club AC Milan, may have used offshore companies to channel payments to politicians. At the end of his judgement Brown pointed out that, \"It is imperative to recognise, however, that none of the applicants has yet been convicted of anything and that nothing I have said should be thought to raise the least presumption of guilt against them.\" He rejected all the grounds of the appeal on the basis that the Italian request was not too wide, that it was justified and that the offences in question were not \"political\". One of the grounds of appeal had been that the SFO had gone to Berlusconi's lawyer's office on a \"fishing expedition\" -- an unspecific search -- which is illegal under English law. Brown described the case as a \"wide-ranging, multi-faceted, international fraud involving far-reaching allegations against a large number of individuals in connection with an even larger number of companies.\" The SFO said it was \"happy\" with the ruling. \"The SFO's fight against fraud on an international level has been strengthened by this welcome judgement,\" it said in a statement. The SFO said the judges had rejected all of the main arguments put forward by the appellants. \"We look forward to the speedy transfer of the documents to Milan so that the investigators can get on with their job,\" it said. A hearing on Friday will decide whether Berlusconi can appeal against today's ruling to the British House of Lords. SFO senior assistant director Chris Dickson said the judges in the current hearing were aware that, if any House of Lords hearing did not take place until next year, this would mean the papers would arrive too late to be used in Italian proceedings. He said that if the appellants were not given leave to appeal on Friday he expected the papers to be transferred immediately, although this was a decision for the Home Office. ($1=.6260 Pound) \n"
     ]
    }
   ],
   "source": [
    "print(trainX[0])"
   ]
  },
  {
   "cell_type": "code",
   "execution_count": 19,
   "metadata": {},
   "outputs": [
    {
     "name": "stdout",
     "output_type": "stream",
     "text": [
      "JoeOrtiz\n"
     ]
    }
   ],
   "source": [
    "print(labels[0])"
   ]
  },
  {
   "cell_type": "markdown",
   "metadata": {},
   "source": [
    "Now let's separate out Train and test sets"
   ]
  },
  {
   "cell_type": "code",
   "execution_count": 20,
   "metadata": {},
   "outputs": [
    {
     "data": {
      "text/plain": [
       "'First-half results from Japan\\'s 20 biggest banks show they have moved back into the black despite hefty write-offs of problem loans. Analysts said figures released by 10 trust and credit banks on Monday showed that all of Japan\\'s big banks had continued actively writing off problem loans resulting from the collapse of Japan\\'s 1980s asset \"bubble\". The 10 biggest commercial banks announced their interim earnings and loan write-off statistics on Friday. Combined write-offs by the 20 biggest banks totalled about 2.4 trillion yen ($21.4 billion) in the first half of the current financial year to September 30. At the end of March, the Finance Ministry said the 20 banks had about 25 trillion yen ($223 billion) worth of problem loans, which include loans made to bankrupt companies and those on which interest payments are in arrears by six months or more. Last fiscal year, the 20 big banks disposed of nearly 11 trillion yen ($98.2 billion) worth of problem loans. Katsuhito Sasajima, an analyst at Nikko Research Centre, said the 20 banks may dispose of at least five trillion yen ($44.6 billion) worth of problem loans in the current fiscal year in order to cut the size of problem loans to manageable levels. Analysts said many big banks were now recovering from the difficulties caused by the problem loans, but some financially-weak banks would continue to struggle to dispose of such loans in the coming years. Yoshinobu Yamada, an analyst at Merrill Lynch Japan, said that major banks should be able to cut their problem loans to manageable levels this financial year, but added that \"some banks are still reeling from the bad loan problem.\" Three long-term credit banks -- Industrial Bank of Japan, Long-Term Credit Bank of Japan and Nippon Credit Bank -- all recorded parent current profits for the first half after posting parent current losses in 1995/96. Current profit is pre-tax and includes gains or losses from sales of securities. The three said they disposed of 255.1 billion yen ($2.27 billion) of problem loans in the first half against a total of 1.93 trillion yen ($17.2 billion) last year. The smallest long-term credit bank, Nippon Credit, said that it hoped to cut its problem loans to manageable levels by the end of 1997/98 at the earliest. As of the end of September, problem loans at Nippon Credit stood at about 1.4 trillion yen ($12.5 billion) or nearly 14 percent of its total loans. Japan\\'s seven major trust banks, all of which posted parent current losses in 1996/97, said they posted combined parent current profits of 316.76 billion yen ($2.82 billion) in the first half after disposing of 1.02 trillion yen ($9.1 billion) of problem loans in the period. This compared with disposals of 2.69 trillion yen ($24.0 billion) last year. A trust bank executive said the banks\\' combined parent current profit for the first half was a record as Japanese authorities had eased special reserve requirements for trust banks in March to free up funds to dispose of problem loans. Analysts said the seven banks would use about one trillion yen ($8.9 billion) of the special reserves to write off problem loans in fiscal 1996/97. Atsushi Takahashi, the managing director of Sumitomo Trust, told reporters that the bank aims to reduce its problem loans to manageable levels in the current financial year. \"We are planning to dispose of a total of 370 billion yen ($3.30 billion) of problem loans in 1996/97,\" he said. ($1=112 yen) '"
      ]
     },
     "execution_count": 20,
     "metadata": {},
     "output_type": "execute_result"
    }
   ],
   "source": [
    "from sklearn.model_selection import train_test_split\n",
    "X_train, X_test, y_train, y_test = train_test_split(trainX, labels, train_size = 0.8)\n",
    "\n",
    "X_train[1]"
   ]
  },
  {
   "cell_type": "markdown",
   "metadata": {},
   "source": [
    "Now we take the features, which are in list format and convert them into pandas series so that various operations can be carried out easily."
   ]
  },
  {
   "cell_type": "code",
   "execution_count": 21,
   "metadata": {},
   "outputs": [
    {
     "data": {
      "text/plain": [
       "0    The Broken Hill Proprietary Co Ltd's steel div...\n",
       "1    First-half results from Japan's 20 biggest ban...\n",
       "2    At this year's Comdex computer trade show, the...\n",
       "3    When Apple Computer Inc. fired co-founder Stev...\n",
       "4    International specialty chemicals group BTP Pl...\n",
       "dtype: object"
      ]
     },
     "execution_count": 21,
     "metadata": {},
     "output_type": "execute_result"
    }
   ],
   "source": [
    "import pandas as pd\n",
    "X_train = pd.Series(X_train)\n",
    "X_test = pd.Series(X_test)\n",
    "\n",
    "X_train.head()"
   ]
  },
  {
   "cell_type": "markdown",
   "metadata": {},
   "source": [
    "Now, let's fit the vectorization pipeline that we defined earlier."
   ]
  },
  {
   "cell_type": "code",
   "execution_count": 22,
   "metadata": {
    "scrolled": true
   },
   "outputs": [
    {
     "data": {
      "text/plain": [
       "['$ 0.01',\n",
       " '$ 0.10',\n",
       " '$ 0.15',\n",
       " '$ 0.18',\n",
       " '$ 0.28',\n",
       " '$ 0.29',\n",
       " '$ 0.46',\n",
       " '$ 0.55',\n",
       " '$ 0.77',\n",
       " '$ 0.90',\n",
       " '$ 1',\n",
       " '$ 1,250',\n",
       " '$ 1.0',\n",
       " '$ 1.00',\n",
       " '$ 1.02',\n",
       " '$ 1.04',\n",
       " '$ 1.067',\n",
       " '$ 1.07',\n",
       " '$ 1.097',\n",
       " '$ 1.1',\n",
       " '$ 1.2',\n",
       " '$ 1.21',\n",
       " '$ 1.25',\n",
       " '$ 1.3',\n",
       " '$ 1.35',\n",
       " '$ 1.38',\n",
       " '$ 1.4',\n",
       " '$ 1.44',\n",
       " '$ 1.441',\n",
       " '$ 1.5',\n",
       " '$ 1.50',\n",
       " '$ 1.55',\n",
       " '$ 1.6',\n",
       " '$ 1.60',\n",
       " '$ 1.7',\n",
       " '$ 1.75',\n",
       " '$ 1.8',\n",
       " '$ 1.80',\n",
       " '$ 1.97',\n",
       " '$ 1.98',\n",
       " '$ 10',\n",
       " '$ 10.2',\n",
       " '$ 10.5',\n",
       " '$ 10.50',\n",
       " '$ 100',\n",
       " '$ 100,000',\n",
       " '$ 102',\n",
       " '$ 107',\n",
       " '$ 11.1',\n",
       " '$ 117']"
      ]
     },
     "execution_count": 22,
     "metadata": {},
     "output_type": "execute_result"
    }
   ],
   "source": [
    "# learn the 'vocabulary' of the training data\n",
    "vect.fit(X_train)\n",
    "\n",
    "# examine the fitted vocabulary\n",
    "vect.get_feature_names()[:50]"
   ]
  },
  {
   "cell_type": "markdown",
   "metadata": {},
   "source": [
    "We can see that there some scope for better feature engineering\n",
    "* \"!\" and \"$\" are appearing along with the numbers\n",
    "* numbers can be clubbed into a single category and can be tagged as numbers (e.g. ####)\n",
    "* Dates, Times can be tagged\n",
    "\n",
    "There are many more things that can be done. But for now let's move on.\n",
    "\n",
    "Next, we transform training data into a 'document-term matrix'"
   ]
  },
  {
   "cell_type": "code",
   "execution_count": 23,
   "metadata": {},
   "outputs": [
    {
     "data": {
      "text/plain": [
       "<400x26454 sparse matrix of type '<class 'numpy.int64'>'\n",
       "\twith 127785 stored elements in Compressed Sparse Row format>"
      ]
     },
     "execution_count": 23,
     "metadata": {},
     "output_type": "execute_result"
    }
   ],
   "source": [
    "train_vectors = vect.transform(X_train)\n",
    "train_vectors"
   ]
  },
  {
   "cell_type": "code",
   "execution_count": 24,
   "metadata": {},
   "outputs": [
    {
     "data": {
      "text/plain": [
       "<100x26454 sparse matrix of type '<class 'numpy.int64'>'\n",
       "\twith 24077 stored elements in Compressed Sparse Row format>"
      ]
     },
     "execution_count": 24,
     "metadata": {},
     "output_type": "execute_result"
    }
   ],
   "source": [
    "test_vectors = vect.transform(X_test)\n",
    "test_vectors"
   ]
  },
  {
   "cell_type": "markdown",
   "metadata": {},
   "source": [
    "Next, we examine the vocabulary and document-term matrix together"
   ]
  },
  {
   "cell_type": "code",
   "execution_count": 25,
   "metadata": {
    "scrolled": true
   },
   "outputs": [
    {
     "data": {
      "text/html": [
       "<div>\n",
       "<style scoped>\n",
       "    .dataframe tbody tr th:only-of-type {\n",
       "        vertical-align: middle;\n",
       "    }\n",
       "\n",
       "    .dataframe tbody tr th {\n",
       "        vertical-align: top;\n",
       "    }\n",
       "\n",
       "    .dataframe thead th {\n",
       "        text-align: right;\n",
       "    }\n",
       "</style>\n",
       "<table border=\"1\" class=\"dataframe\">\n",
       "  <thead>\n",
       "    <tr style=\"text-align: right;\">\n",
       "      <th></th>\n",
       "      <th>$ 0.01</th>\n",
       "      <th>$ 0.10</th>\n",
       "      <th>$ 0.15</th>\n",
       "      <th>$ 0.18</th>\n",
       "      <th>$ 0.28</th>\n",
       "      <th>$ 0.29</th>\n",
       "      <th>$ 0.46</th>\n",
       "      <th>$ 0.55</th>\n",
       "      <th>$ 0.77</th>\n",
       "      <th>$ 0.90</th>\n",
       "      <th>...</th>\n",
       "      <th>zivnostenska banka.</th>\n",
       "      <th>zwanziger</th>\n",
       "      <th>zwanziger 's</th>\n",
       "      <th>zwanziger ,</th>\n",
       "      <th>zwanziger accused</th>\n",
       "      <th>zwanziger non-executive</th>\n",
       "      <th>zwanziger trying</th>\n",
       "      <th>zwanziger watched</th>\n",
       "      <th>zwetchkenbaum</th>\n",
       "      <th>zwetchkenbaum ,</th>\n",
       "    </tr>\n",
       "  </thead>\n",
       "  <tbody>\n",
       "    <tr>\n",
       "      <th>0</th>\n",
       "      <td>0</td>\n",
       "      <td>0</td>\n",
       "      <td>0</td>\n",
       "      <td>0</td>\n",
       "      <td>0</td>\n",
       "      <td>0</td>\n",
       "      <td>0</td>\n",
       "      <td>0</td>\n",
       "      <td>0</td>\n",
       "      <td>0</td>\n",
       "      <td>...</td>\n",
       "      <td>0</td>\n",
       "      <td>0</td>\n",
       "      <td>0</td>\n",
       "      <td>0</td>\n",
       "      <td>0</td>\n",
       "      <td>0</td>\n",
       "      <td>0</td>\n",
       "      <td>0</td>\n",
       "      <td>0</td>\n",
       "      <td>0</td>\n",
       "    </tr>\n",
       "    <tr>\n",
       "      <th>1</th>\n",
       "      <td>0</td>\n",
       "      <td>0</td>\n",
       "      <td>0</td>\n",
       "      <td>0</td>\n",
       "      <td>0</td>\n",
       "      <td>0</td>\n",
       "      <td>0</td>\n",
       "      <td>0</td>\n",
       "      <td>0</td>\n",
       "      <td>0</td>\n",
       "      <td>...</td>\n",
       "      <td>0</td>\n",
       "      <td>0</td>\n",
       "      <td>0</td>\n",
       "      <td>0</td>\n",
       "      <td>0</td>\n",
       "      <td>0</td>\n",
       "      <td>0</td>\n",
       "      <td>0</td>\n",
       "      <td>0</td>\n",
       "      <td>0</td>\n",
       "    </tr>\n",
       "    <tr>\n",
       "      <th>2</th>\n",
       "      <td>0</td>\n",
       "      <td>0</td>\n",
       "      <td>0</td>\n",
       "      <td>0</td>\n",
       "      <td>0</td>\n",
       "      <td>0</td>\n",
       "      <td>0</td>\n",
       "      <td>0</td>\n",
       "      <td>0</td>\n",
       "      <td>0</td>\n",
       "      <td>...</td>\n",
       "      <td>0</td>\n",
       "      <td>0</td>\n",
       "      <td>0</td>\n",
       "      <td>0</td>\n",
       "      <td>0</td>\n",
       "      <td>0</td>\n",
       "      <td>0</td>\n",
       "      <td>0</td>\n",
       "      <td>0</td>\n",
       "      <td>0</td>\n",
       "    </tr>\n",
       "    <tr>\n",
       "      <th>3</th>\n",
       "      <td>0</td>\n",
       "      <td>0</td>\n",
       "      <td>0</td>\n",
       "      <td>0</td>\n",
       "      <td>0</td>\n",
       "      <td>0</td>\n",
       "      <td>0</td>\n",
       "      <td>0</td>\n",
       "      <td>0</td>\n",
       "      <td>0</td>\n",
       "      <td>...</td>\n",
       "      <td>0</td>\n",
       "      <td>0</td>\n",
       "      <td>0</td>\n",
       "      <td>0</td>\n",
       "      <td>0</td>\n",
       "      <td>0</td>\n",
       "      <td>0</td>\n",
       "      <td>0</td>\n",
       "      <td>0</td>\n",
       "      <td>0</td>\n",
       "    </tr>\n",
       "  </tbody>\n",
       "</table>\n",
       "<p>4 rows × 26454 columns</p>\n",
       "</div>"
      ],
      "text/plain": [
       "   $ 0.01  $ 0.10  $ 0.15  $ 0.18  $ 0.28  $ 0.29  $ 0.46  $ 0.55  $ 0.77  \\\n",
       "0       0       0       0       0       0       0       0       0       0   \n",
       "1       0       0       0       0       0       0       0       0       0   \n",
       "2       0       0       0       0       0       0       0       0       0   \n",
       "3       0       0       0       0       0       0       0       0       0   \n",
       "\n",
       "   $ 0.90  ...  zivnostenska banka.  zwanziger  zwanziger 's  zwanziger ,  \\\n",
       "0       0  ...                    0          0             0            0   \n",
       "1       0  ...                    0          0             0            0   \n",
       "2       0  ...                    0          0             0            0   \n",
       "3       0  ...                    0          0             0            0   \n",
       "\n",
       "   zwanziger accused  zwanziger non-executive  zwanziger trying  \\\n",
       "0                  0                        0                 0   \n",
       "1                  0                        0                 0   \n",
       "2                  0                        0                 0   \n",
       "3                  0                        0                 0   \n",
       "\n",
       "   zwanziger watched  zwetchkenbaum  zwetchkenbaum ,  \n",
       "0                  0              0                0  \n",
       "1                  0              0                0  \n",
       "2                  0              0                0  \n",
       "3                  0              0                0  \n",
       "\n",
       "[4 rows x 26454 columns]"
      ]
     },
     "execution_count": 25,
     "metadata": {},
     "output_type": "execute_result"
    }
   ],
   "source": [
    "pd.DataFrame(train_vectors.toarray(), columns=vect.get_feature_names()).head(4)"
   ]
  },
  {
   "cell_type": "markdown",
   "metadata": {},
   "source": [
    "As you can see, there are 27459 columns which are there. Most of them are going to sparse."
   ]
  },
  {
   "cell_type": "markdown",
   "metadata": {
    "collapsed": true
   },
   "source": [
    "## Lets Build our Model\n",
    "\n",
    "We are going to use Naive Baysian model here as they are very effective at text classification."
   ]
  },
  {
   "cell_type": "code",
   "execution_count": 26,
   "metadata": {},
   "outputs": [
    {
     "name": "stderr",
     "output_type": "stream",
     "text": [
      "/home/bharatmishra/anaconda3/lib/python3.7/site-packages/IPython/core/display.py:689: UserWarning: Consider using IPython.display.IFrame instead\n",
      "  warnings.warn(\"Consider using IPython.display.IFrame instead\")\n"
     ]
    },
    {
     "data": {
      "text/html": [
       "<iframe width=\"560\" height=\"315\" src=\"https://www.youtube.com/embed/8yvBqhm92xA\" frameborder=\"0\" allowfullscreen></iframe>"
      ],
      "text/plain": [
       "<IPython.core.display.HTML object>"
      ]
     },
     "execution_count": 26,
     "metadata": {},
     "output_type": "execute_result"
    }
   ],
   "source": [
    "from IPython.display import HTML\n",
    "HTML('<iframe width=\"560\" height=\"315\" src=\"https://www.youtube.com/embed/8yvBqhm92xA\" frameborder=\"0\" allowfullscreen></iframe>')"
   ]
  },
  {
   "cell_type": "markdown",
   "metadata": {},
   "source": [
    "You can read more about bayesian algorithms at: \n",
    "\n",
    "* [Wikipedia](https://en.wikipedia.org/wiki/Naive_Bayes_classifier)\n",
    "* [Resource](https://www.cs.toronto.edu/~urtasun/courses/CSC411/tutorial4.pdf)"
   ]
  },
  {
   "cell_type": "code",
   "execution_count": 27,
   "metadata": {},
   "outputs": [],
   "source": [
    "from sklearn.naive_bayes import GaussianNB, MultinomialNB, BernoulliNB\n",
    "nb = GaussianNB()"
   ]
  },
  {
   "cell_type": "code",
   "execution_count": 28,
   "metadata": {},
   "outputs": [
    {
     "data": {
      "text/plain": [
       "GaussianNB(priors=None, var_smoothing=1e-09)"
      ]
     },
     "execution_count": 28,
     "metadata": {},
     "output_type": "execute_result"
    }
   ],
   "source": [
    "nb.fit(train_vectors.toarray(), y_train)"
   ]
  },
  {
   "cell_type": "code",
   "execution_count": 29,
   "metadata": {},
   "outputs": [
    {
     "name": "stderr",
     "output_type": "stream",
     "text": [
      "/home/bharatmishra/anaconda3/lib/python3.7/site-packages/sklearn/model_selection/_split.py:657: Warning: The least populated class in y has only 4 members, which is too few. The minimum number of members in any class cannot be less than n_splits=10.\n",
      "  % (min_groups, self.n_splits)), Warning)\n"
     ]
    },
    {
     "name": "stdout",
     "output_type": "stream",
     "text": [
      "                   precision    recall  f1-score   support\n",
      "\n",
      "   FumikoFujisaki       0.80      1.00      0.89         8\n",
      "       JanLopatka       1.00      0.75      0.86        12\n",
      "         JoeOrtiz       1.00      0.25      0.40         4\n",
      "     JonathanBirt       0.75      0.60      0.67         5\n",
      "KouroshKarimkhany       0.93      1.00      0.97        14\n",
      "  LynnleyBrowning       0.78      1.00      0.88        14\n",
      "     MarkBendeich       0.73      0.73      0.73        11\n",
      "  PatriciaCommins       1.00      0.86      0.92         7\n",
      "    PeterHumphrey       1.00      0.90      0.95        10\n",
      "      ScottHillis       0.88      1.00      0.94        15\n",
      "\n",
      "         accuracy                           0.87       100\n",
      "        macro avg       0.89      0.81      0.82       100\n",
      "     weighted avg       0.88      0.87      0.86       100\n",
      "\n",
      "ACCURACY:: 0.87\n"
     ]
    }
   ],
   "source": [
    "from sklearn.metrics.classification import classification_report, accuracy_score\n",
    "from sklearn.model_selection import cross_val_predict \n",
    "\n",
    "# generate your cross-validation prediction with 10 fold Stratified sampling\n",
    "y_pred = cross_val_predict(nb, test_vectors.toarray(), y_test, cv=10)\n",
    "\n",
    "print(classification_report(y_test, y_pred))\n",
    "print(\"ACCURACY::\", accuracy_score(y_pred, y_test))"
   ]
  },
  {
   "cell_type": "markdown",
   "metadata": {},
   "source": [
    "As we can see, even with limited amount of feature engineering, we are getting really good results. Better feature engineering will result in better results."
   ]
  },
  {
   "cell_type": "markdown",
   "metadata": {},
   "source": [
    "## Model Building Using TF-IDF Vectorizer:\n",
    "\n",
    "* Tf-idf vectorizer is most famous and most widely used vectoirzer in NLP. \n",
    "* Tf-idf stands for term frequency-inverse document frequency, \n",
    "* Tf-idf weight is a statistical measure used to evaluate how important a word is to a document in a collection or corpus. \n",
    "* The importance increases proportionally to the number of times a word appears in the document but is offset by the frequency of the word in the corpus."
   ]
  },
  {
   "cell_type": "markdown",
   "metadata": {},
   "source": [
    "## Model Building Using TF-IDF Vectorizer:\n",
    "\n",
    "Typically, the tf-idf weight is composed by two terms: \n",
    "* the first computes the normalized Term Frequency (TF), aka. the number of times a word appears in a document, divided by the total number of words in that document; \n",
    "* the second term is the Inverse Document Frequency (IDF), computed as the logarithm of the number of the documents in the corpus divided by the number of documents where the specific term appears."
   ]
  },
  {
   "cell_type": "markdown",
   "metadata": {},
   "source": [
    "* **TF: Term Frequency**, which measures how frequently a term occurs in a document. Since every document is different in length, it is possible that a term would appear much more times in long documents than shorter ones. Thus, the term frequency is often divided by the document length (aka. the total number of terms in the document) as a way of normalization: \n",
    "\n",
    "$$TF(t) = \\frac{Number\\ of\\ times\\ term\\ t\\ appears\\ in\\ a\\ document} {Total\\ number\\ of\\ terms\\ in\\ the\\ document}$$"
   ]
  },
  {
   "cell_type": "markdown",
   "metadata": {},
   "source": [
    "* **IDF: Inverse Document Frequency,** which measures how important a term is. While computing TF, all terms are considered equally important. However it is known that certain terms, such as \"is\", \"of\", and \"that\", may appear a lot of times but have little importance. Thus we need to weigh down the frequent terms while scale up the rare ones, by computing the following: \n",
    "\n",
    "$$IDF(t) = log_e(\\frac{Total\\ number\\ of\\ documents} {Number\\ of\\ documents\\ with\\ term\\ t\\ in\\ it})$$\n",
    "\n",
    "Typically, IDF is a measure of how rare a term is. Rarer the term, more is the IDF score."
   ]
  },
  {
   "cell_type": "markdown",
   "metadata": {},
   "source": [
    "$$Tf-TDF score = TF * IDF$$"
   ]
  },
  {
   "cell_type": "code",
   "execution_count": 30,
   "metadata": {},
   "outputs": [
    {
     "data": {
      "text/plain": [
       "TfidfVectorizer(analyzer='word', binary=False, decode_error='strict',\n",
       "                dtype=<class 'numpy.float64'>, encoding='utf-8',\n",
       "                input='content', lowercase=True, max_df=0.5, max_features=None,\n",
       "                min_df=2, ngram_range=(1, 2), norm='l2', preprocessor=None,\n",
       "                smooth_idf=True, stop_words='english', strip_accents=None,\n",
       "                sublinear_tf=False, token_pattern='(?u)\\\\b\\\\w\\\\w+\\\\b',\n",
       "                tokenizer=<bound method TreebankWordTokenizer.tokenize of <nltk.tokenize.treebank.TreebankWordTokenizer object at 0x7f3dfce9bd30>>,\n",
       "                use_idf=True, vocabulary=None)"
      ]
     },
     "execution_count": 30,
     "metadata": {},
     "output_type": "execute_result"
    }
   ],
   "source": [
    "# import and instantiate TfidfVectorizer (with the default parameters)\n",
    "from sklearn.feature_extraction.text import TfidfVectorizer\n",
    "vect = TfidfVectorizer()\n",
    "vect.set_params(tokenizer=tokenizer.tokenize)\n",
    "\n",
    "# remove English stop words\n",
    "vect.set_params(stop_words='english')\n",
    "\n",
    "# include 1-grams and 2-grams\n",
    "vect.set_params(ngram_range=(1, 2))\n",
    "\n",
    "# ignore terms that appear in more than 50% of the documents\n",
    "vect.set_params(max_df=0.5)\n",
    "\n",
    "# only keep terms that appear in at least 2 documents\n",
    "vect.set_params(min_df=2)"
   ]
  },
  {
   "cell_type": "code",
   "execution_count": 31,
   "metadata": {},
   "outputs": [
    {
     "data": {
      "text/plain": [
       "<400x26454 sparse matrix of type '<class 'numpy.float64'>'\n",
       "\twith 127785 stored elements in Compressed Sparse Row format>"
      ]
     },
     "execution_count": 31,
     "metadata": {},
     "output_type": "execute_result"
    }
   ],
   "source": [
    "train_vectors = vect.fit_transform(X_train)\n",
    "train_vectors"
   ]
  },
  {
   "cell_type": "markdown",
   "metadata": {},
   "source": [
    "### Lets Build our Model"
   ]
  },
  {
   "cell_type": "code",
   "execution_count": 32,
   "metadata": {},
   "outputs": [
    {
     "data": {
      "text/plain": [
       "GaussianNB(priors=None, var_smoothing=1e-09)"
      ]
     },
     "execution_count": 32,
     "metadata": {},
     "output_type": "execute_result"
    }
   ],
   "source": [
    "from sklearn.naive_bayes import GaussianNB, MultinomialNB, BernoulliNB\n",
    "nb=GaussianNB()\n",
    "nb.fit(train_vectors.toarray(), y_train)"
   ]
  },
  {
   "cell_type": "markdown",
   "metadata": {},
   "source": [
    "### Lets Analyze performance"
   ]
  },
  {
   "cell_type": "code",
   "execution_count": 33,
   "metadata": {},
   "outputs": [
    {
     "name": "stderr",
     "output_type": "stream",
     "text": [
      "/home/bharatmishra/anaconda3/lib/python3.7/site-packages/sklearn/model_selection/_split.py:657: Warning: The least populated class in y has only 4 members, which is too few. The minimum number of members in any class cannot be less than n_splits=10.\n",
      "  % (min_groups, self.n_splits)), Warning)\n"
     ]
    },
    {
     "name": "stdout",
     "output_type": "stream",
     "text": [
      "                   precision    recall  f1-score   support\n",
      "\n",
      "   FumikoFujisaki       0.80      1.00      0.89         8\n",
      "       JanLopatka       1.00      0.75      0.86        12\n",
      "         JoeOrtiz       1.00      0.25      0.40         4\n",
      "     JonathanBirt       0.75      0.60      0.67         5\n",
      "KouroshKarimkhany       0.93      1.00      0.97        14\n",
      "  LynnleyBrowning       0.78      1.00      0.88        14\n",
      "     MarkBendeich       0.73      0.73      0.73        11\n",
      "  PatriciaCommins       1.00      0.86      0.92         7\n",
      "    PeterHumphrey       1.00      0.90      0.95        10\n",
      "      ScottHillis       0.88      1.00      0.94        15\n",
      "\n",
      "         accuracy                           0.87       100\n",
      "        macro avg       0.89      0.81      0.82       100\n",
      "     weighted avg       0.88      0.87      0.86       100\n",
      "\n",
      "ACCURACY:: 0.87\n"
     ]
    }
   ],
   "source": [
    "#generate your cross-validation prediction with 10 fold Stratified sampling\n",
    "y_pred = cross_val_predict(nb, test_vectors.toarray(), y_test, cv=10)\n",
    "\n",
    "print(classification_report(y_test, y_pred))\n",
    "print (\"ACCURACY::\",accuracy_score(y_pred,y_test))"
   ]
  },
  {
   "cell_type": "markdown",
   "metadata": {},
   "source": [
    "## Applications of Bag-of-Words\n",
    "\n",
    "The bag-of-words model is very simple to understand and implement and offers a lot of flexibility for customization on your specific text data.\n",
    "\n",
    "It has been used with great success on prediction problems like \n",
    "\n",
    "* Language modeling\n",
    "* Documentation classification\n",
    "* Recommender Systems\n",
    "* Clustering"
   ]
  },
  {
   "cell_type": "markdown",
   "metadata": {},
   "source": [
    "## Limitations of Bag-of-Words approach\n",
    "\n",
    "Nevertheless, it suffers from some shortcomings, such as:\n",
    "\n",
    "* **Meaning**: Discarding word order ignores the context, and in turn meaning of words in the document (semantics). Context and meaning can offer a lot to the model, that if modeled could tell the difference between the same words differently arranged (“this is interesting” vs “is this interesting”), synonyms (“old bike” vs “used bike”), and much more.\n",
    "* **Vocabulary**: The vocabulary requires careful design, most specifically in order to manage the size, which impacts the sparsity of the document representations.\n",
    "* **Sparsity**: Sparse representations are harder to model both for computational reasons (space and time complexity) and also for information reasons, where the challenge is for the models to harness so little information in such a large representational space."
   ]
  },
  {
   "cell_type": "code",
   "execution_count": 34,
   "metadata": {},
   "outputs": [],
   "source": [
    "#Loading the data for mini-challenges\n",
    "#Data contains text messages, we would use it to build a spam classifier.\n",
    "df = pd.read_csv('../data/spam.csv',encoding='latin-1')\n",
    "#Feature vectors\n",
    "X=df['v2']\n",
    "#target variable\n",
    "y = df['v1'].replace('ham',1).replace('spam',0)\n",
    "#All the text data\n",
    "textall = \" \".join(X)"
   ]
  },
  {
   "cell_type": "markdown",
   "metadata": {},
   "source": [
    "<img src=\"../images/icon/ppt-icons.png\" alt=\"Concept-Alert\" style=\"width: 100px;float:left; margin-right:15px\"/>\n",
    "<br /> \n",
    "\n",
    "##  Mini-Challenge - 1\n",
    "Create a word-cloud of the data."
   ]
  },
  {
   "cell_type": "code",
   "execution_count": null,
   "metadata": {},
   "outputs": [],
   "source": []
  },
  {
   "cell_type": "markdown",
   "metadata": {},
   "source": [
    "<img src=\"../images/icon/ppt-icons.png\" alt=\"Concept-Alert\" style=\"width: 100px;float:left; margin-right:15px\"/>\n",
    "<br /> \n",
    "\n",
    "##  Mini-Challenge - 2\n",
    "- Performing Stemming using Porter Stemmer\n",
    "- Use a Count-Vectorizer to vectorize the data.\n",
    "    - Also set the appropriate parameters to\n",
    "        - Tokenise the text data using TreebankWordTokenizer\n",
    "        - Convert the data to lowercase\n",
    "        - Remove stop words\n",
    "        - Use bi-grams\n",
    "        - Ignore terms that appear in more than 50% of the documents & keep terms that appear in atleat 2 documents"
   ]
  },
  {
   "cell_type": "code",
   "execution_count": null,
   "metadata": {},
   "outputs": [],
   "source": []
  },
  {
   "cell_type": "markdown",
   "metadata": {},
   "source": [
    "<img src=\"../images/icon/ppt-icons.png\" alt=\"Concept-Alert\" style=\"width: 100px;float:left; margin-right:15px\"/>\n",
    "<br /> \n",
    "\n",
    "##  Mini-Challenge - 3\n",
    "\n",
    "- Split the data into train & test.\n",
    "- Fit a Gaussian Naive Bayes model on your training data."
   ]
  },
  {
   "cell_type": "code",
   "execution_count": null,
   "metadata": {},
   "outputs": [],
   "source": []
  },
  {
   "cell_type": "markdown",
   "metadata": {},
   "source": [
    "<img src=\"../images/icon/ppt-icons.png\" alt=\"Concept-Alert\" style=\"width: 100px;float:left; margin-right:15px\"/>\n",
    "<br /> \n",
    "\n",
    "##  Mini-Challenge - 4\n",
    "- Predict using the test data and get the classification metrics"
   ]
  },
  {
   "cell_type": "code",
   "execution_count": null,
   "metadata": {},
   "outputs": [],
   "source": []
  },
  {
   "cell_type": "code",
   "execution_count": null,
   "metadata": {},
   "outputs": [],
   "source": []
  }
 ],
 "metadata": {
  "celltoolbar": "Slideshow",
  "kernelspec": {
   "display_name": "Python 3",
   "language": "python",
   "name": "python3"
  },
  "language_info": {
   "codemirror_mode": {
    "name": "ipython",
    "version": 3
   },
   "file_extension": ".py",
   "mimetype": "text/x-python",
   "name": "python",
   "nbconvert_exporter": "python",
   "pygments_lexer": "ipython3",
   "version": "3.7.3"
  }
 },
 "nbformat": 4,
 "nbformat_minor": 2
}
