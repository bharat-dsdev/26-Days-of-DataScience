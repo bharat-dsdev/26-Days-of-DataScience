{
 "cells": [
  {
   "cell_type": "code",
   "execution_count": 16,
   "metadata": {},
   "outputs": [
    {
     "name": "stdout",
     "output_type": "stream",
     "text": [
      "OpenCV Version : 4.1.0 \n"
     ]
    }
   ],
   "source": [
    "%matplotlib inline\n",
    "import cv2\n",
    "import matplotlib.pyplot as plt\n",
    "import numpy as np\n",
    "import sys\n",
    "from pprint import pprint\n",
    "print(\"OpenCV Version : %s \" % cv2.__version__)"
   ]
  },
  {
   "cell_type": "markdown",
   "metadata": {},
   "source": [
    "## Importing Images\n",
    "\n",
    "Let's now import an image.\n",
    "\n",
    "It's common for a lot of algorithms implemented in OpenCV to act on a black and white version of the image, so we'll also transform the image to B&W. Here is the image we are going to import:\n",
    "\n",
    "![](.../images/apple4.jpg)"
   ]
  },
  {
   "cell_type": "code",
   "execution_count": 18,
   "metadata": {},
   "outputs": [],
   "source": [
    "# load our image and convert it to grayscale\n",
    "image = cv2.imread(\"../images/apple4.jpg\")\n",
    "gray = cv2.cvtColor(image, cv2.COLOR_BGR2GRAY)"
   ]
  },
  {
   "cell_type": "markdown",
   "metadata": {},
   "source": [
    "## Images as Data Structures\n",
    "\n",
    "Let's now see what the imported image looks like:"
   ]
  },
  {
   "cell_type": "code",
   "execution_count": 19,
   "metadata": {},
   "outputs": [
    {
     "name": "stdout",
     "output_type": "stream",
     "text": [
      "\n",
      "Data Type:\n",
      "<class 'numpy.ndarray'>\n",
      "\n",
      "Example:\n",
      " pixel at (0,0) [B,G,R]:\t[255,255,255]\n",
      "\n",
      "data-type:\n",
      " uint8 \n",
      "\n",
      "Image shape: \n",
      "Height:\t\t100 pixels\n",
      "Width:\t\t100 pixels\n",
      "Channels:\t3\n",
      "\n",
      "The image array:\n",
      "array([[[255, 255, 255],\n",
      "        [255, 255, 255],\n",
      "        [255, 255, 255],\n",
      "        ...,\n",
      "        [255, 255, 255],\n",
      "        [255, 255, 255],\n",
      "        [255, 255, 255]],\n",
      "\n",
      "       [[255, 255, 255],\n",
      "        [255, 255, 255],\n",
      "        [255, 255, 255],\n",
      "        ...,\n",
      "        [255, 255, 255],\n",
      "        [255, 255, 255],\n",
      "        [255, 255, 255]],\n",
      "\n",
      "       [[255, 255, 255],\n",
      "        [255, 255, 255],\n",
      "        [255, 255, 255],\n",
      "        ...,\n",
      "        [255, 255, 255],\n",
      "        [255, 255, 255],\n",
      "        [255, 255, 255]],\n",
      "\n",
      "       ...,\n",
      "\n",
      "       [[255, 255, 255],\n",
      "        [255, 255, 255],\n",
      "        [255, 255, 255],\n",
      "        ...,\n",
      "        [255, 255, 255],\n",
      "        [255, 255, 255],\n",
      "        [255, 255, 255]],\n",
      "\n",
      "       [[255, 255, 255],\n",
      "        [255, 255, 255],\n",
      "        [255, 255, 255],\n",
      "        ...,\n",
      "        [255, 255, 255],\n",
      "        [255, 255, 255],\n",
      "        [255, 255, 255]],\n",
      "\n",
      "       [[255, 255, 255],\n",
      "        [255, 255, 255],\n",
      "        [255, 255, 255],\n",
      "        ...,\n",
      "        [255, 255, 255],\n",
      "        [255, 255, 255],\n",
      "        [255, 255, 255]]], dtype=uint8)\n"
     ]
    }
   ],
   "source": [
    "print(\"\\nData Type:\"); pprint(type(image))\n",
    "print(\"\\nExample:\\n pixel at (0,0) [B,G,R]:\\t[%i,%i,%i]\" % tuple(image[0,0,:]))\n",
    "print(\"\\ndata-type:\\n %s \" % image.dtype)\n",
    "print(\"\\nImage shape: \"); print(\"Height:\\t\\t%i pixels\\nWidth:\\t\\t%i pixels\\nChannels:\\t%i\" % image.shape)\n",
    "print(\"\\nThe image array:\"); pprint(image)"
   ]
  },
  {
   "cell_type": "markdown",
   "metadata": {},
   "source": [
    "## Plotting Images\n",
    "\n",
    "Before we move further, let's make sure that we can again transform this matrix into an image and print it. OpenCV's own function doesn't play very nice with other IDEs (for example Commit.Live or Jupyter notebooks, so we are going to use matplotlib to plot these images."
   ]
  },
  {
   "cell_type": "code",
   "execution_count": 20,
   "metadata": {},
   "outputs": [
    {
     "data": {
      "image/png": "[encoded data removed]",
      "text/plain": [
       "<Figure size 432x288 with 1 Axes>"
      ]
     },
     "metadata": {
      "needs_background": "light"
     },
     "output_type": "display_data"
    }
   ],
   "source": [
    "plt.imshow(image)\n",
    "plt.show()"
   ]
  },
  {
   "cell_type": "markdown",
   "metadata": {},
   "source": [
    "## Fix the plot: by manipulating the colorspace\n",
    "\n",
    "The colors are off!\n",
    "\n",
    "* The image has been correctly loaded by openCV as a numpy array, but the color of each pixel has been sorted as BGR.\n",
    "* Matplotlib's plot expects an RGB image.\n",
    "* So, for a correct display of the image, it is necessary to swap those channels.\n",
    "\n",
    "`cvtColor` is the openCV function which changes the color space of an image. It takes as input an image and a numerical flag which represents the conversion function. Let's list some of that."
   ]
  },
  {
   "cell_type": "code",
   "execution_count": 21,
   "metadata": {},
   "outputs": [
    {
     "name": "stdout",
     "output_type": "stream",
     "text": [
      "['COLOR_BGR2BGR555',\n",
      " 'COLOR_BGR2BGR565',\n",
      " 'COLOR_BGR2BGRA',\n",
      " 'COLOR_BGR2GRAY',\n",
      " 'COLOR_BGR2HLS',\n",
      " 'COLOR_BGR2HLS_FULL',\n",
      " 'COLOR_BGR2HSV',\n",
      " 'COLOR_BGR2HSV_FULL',\n",
      " 'COLOR_BGR2LAB',\n",
      " 'COLOR_BGR2LUV',\n",
      " 'COLOR_BGR2Lab',\n",
      " 'COLOR_BGR2Luv',\n",
      " 'COLOR_BGR2RGB',\n",
      " 'COLOR_BGR2RGBA',\n",
      " 'COLOR_BGR2XYZ',\n",
      " 'COLOR_BGR2YCR_CB',\n",
      " 'COLOR_BGR2YCrCb',\n",
      " 'COLOR_BGR2YUV',\n",
      " 'COLOR_BGR2YUV_I420',\n",
      " 'COLOR_BGR2YUV_IYUV',\n",
      " 'COLOR_BGR2YUV_YV12',\n",
      " 'COLOR_BGR5552BGR',\n",
      " 'COLOR_BGR5552BGRA',\n",
      " 'COLOR_BGR5552GRAY',\n",
      " 'COLOR_BGR5552RGB',\n",
      " 'COLOR_BGR5552RGBA',\n",
      " 'COLOR_BGR5652BGR',\n",
      " 'COLOR_BGR5652BGRA',\n",
      " 'COLOR_BGR5652GRAY',\n",
      " 'COLOR_BGR5652RGB',\n",
      " 'COLOR_BGR5652RGBA',\n",
      " 'COLOR_BGRA2BGR',\n",
      " 'COLOR_BGRA2BGR555',\n",
      " 'COLOR_BGRA2BGR565',\n",
      " 'COLOR_BGRA2GRAY',\n",
      " 'COLOR_BGRA2RGB',\n",
      " 'COLOR_BGRA2RGBA',\n",
      " 'COLOR_BGRA2YUV_I420',\n",
      " 'COLOR_BGRA2YUV_IYUV',\n",
      " 'COLOR_BGRA2YUV_YV12']\n"
     ]
    }
   ],
   "source": [
    "BGRflags = [flag for flag in dir(cv2) if flag.startswith('COLOR_BGR') ]\n",
    "pprint(BGRflags)"
   ]
  },
  {
   "cell_type": "markdown",
   "metadata": {},
   "source": [
    "In this case it's necessary to change the image space from BGR (Blue, Green, Red) to RGB, so the correct flag is `cv2.COLOR_BGR2RGB`"
   ]
  },
  {
   "cell_type": "code",
   "execution_count": 22,
   "metadata": {},
   "outputs": [
    {
     "data": {
      "image/png": "[encoded data removed]",
      "text/plain": [
       "<Figure size 432x288 with 1 Axes>"
      ]
     },
     "metadata": {
      "needs_background": "light"
     },
     "output_type": "display_data"
    }
   ],
   "source": [
    "cv_rgb = cv2.cvtColor(image, cv2.COLOR_BGR2RGB)\n",
    "plt.imshow(cv_rgb)\n",
    "plt.show()"
   ]
  },
  {
   "cell_type": "markdown",
   "metadata": {},
   "source": [
    "## A function to plot images\n",
    "\n",
    "Let's wrap everything inside a function so that we can easily use it later on."
   ]
  },
  {
   "cell_type": "code",
   "execution_count": 23,
   "metadata": {},
   "outputs": [],
   "source": [
    "def plotBGR2RGB(img):\n",
    "    img_rgb = cv2.cvtColor(img, cv2.COLOR_BGR2RGB)\n",
    "    plt.imshow(img_rgb)\n",
    "    plt.show()"
   ]
  },
  {
   "cell_type": "code",
   "execution_count": null,
   "metadata": {},
   "outputs": [],
   "source": []
  },
  {
   "cell_type": "markdown",
   "metadata": {},
   "source": [
    "## Implementing a simple k-NN system"
   ]
  },
  {
   "cell_type": "code",
   "execution_count": 1,
   "metadata": {},
   "outputs": [],
   "source": [
    "# Import required libraries\n",
    "import cv2\n",
    "import numpy as np\n",
    "import matplotlib.pyplot as plt"
   ]
  },
  {
   "cell_type": "code",
   "execution_count": 2,
   "metadata": {},
   "outputs": [
    {
     "data": {
      "image/png": "[encoded data removed]",
      "text/plain": [
       "<Figure size 432x288 with 1 Axes>"
      ]
     },
     "metadata": {
      "needs_background": "light"
     },
     "output_type": "display_data"
    }
   ],
   "source": [
    "# Generate 20 known data points with random (x,y) values to train the model\n",
    "trainData = np.random.randint(0,100,(20,2)).astype(np.float32)\n",
    "\n",
    "# Labels each data point with numbers 0 and 1 randomly \n",
    "labels = np.random.randint(0,2,(20,1)).astype(np.float32)\n",
    "\n",
    "# When label = 0 show as red traingle\n",
    "red = trainData[labels.ravel()==0]\n",
    "plt.scatter(red[:,0],red[:,1],80,'r','^')\n",
    "\n",
    "# When label = 1 show as blue square\n",
    "blue = trainData[labels.ravel()==1]\n",
    "plt.scatter(blue[:,0],blue[:,1],80,'b','s')\n",
    "\n",
    "# New unknown data point shown as green circle\n",
    "test = np.random.randint(0,100,(1,2)).astype(np.float32)\n",
    "plt.scatter(test[:,0],test[:,1],80,'g','o')\n",
    "plt.show()"
   ]
  },
  {
   "cell_type": "code",
   "execution_count": 3,
   "metadata": {},
   "outputs": [
    {
     "name": "stdout",
     "output_type": "stream",
     "text": [
      "result:  [[0.]]\n",
      "\n",
      "neighbours:  [[1. 0. 0.]]\n",
      "\n",
      "distance:  [[ 49. 145. 181.]]\n",
      "\n"
     ]
    }
   ],
   "source": [
    "# Implement k-NN to find classification of unknown green data point\n",
    "knn = cv2.ml.KNearest_create()\n",
    "knn.train(trainData, cv2.ml.ROW_SAMPLE, labels)\n",
    "ret, results, neighbours ,dist = knn.findNearest(test, 3)\n",
    "\n",
    "# Print out some results\n",
    "print( \"result:  {}\\n\".format(results) )\n",
    "print( \"neighbours:  {}\\n\".format(neighbours) )\n",
    "print( \"distance:  {}\\n\".format(dist) )"
   ]
  },
  {
   "cell_type": "markdown",
   "metadata": {},
   "source": [
    "## Image Classification using k-NN"
   ]
  },
  {
   "cell_type": "code",
   "execution_count": 4,
   "metadata": {},
   "outputs": [],
   "source": [
    "# Import the images\n",
    "img1 = cv2.imread('../images/apple1.jpg',0)\n",
    "img2 = cv2.imread('../images//apple2.jpg',0)\n",
    "img3 = cv2.imread('../images//apple3.jpg',0)\n",
    "\n",
    "img4 = cv2.imread('../images/banana1.jpg',0)\n",
    "img5 = cv2.imread('../images/banana2.jpg',0)\n",
    "img6 = cv2.imread('../images/banana3.jpg',0)\n",
    "\n",
    "test = cv2.imread('../images/banana4.jpg',0)"
   ]
  },
  {
   "cell_type": "code",
   "execution_count": 5,
   "metadata": {},
   "outputs": [],
   "source": [
    "# Combine the images into one array\n",
    "train = np.concatenate((img1, img2, img3, img4, img5, img6), axis=0)\n",
    "\n",
    "# Prepare train and test datasets\n",
    "train = train.reshape(-1,10000).astype(np.float32)\n",
    "test = test.reshape(-1,10000).astype(np.float32)"
   ]
  },
  {
   "cell_type": "code",
   "execution_count": 6,
   "metadata": {},
   "outputs": [
    {
     "data": {
      "text/plain": [
       "(1, 10000)"
      ]
     },
     "execution_count": 6,
     "metadata": {},
     "output_type": "execute_result"
    }
   ],
   "source": [
    "# Show to shape of the train and test data for further understanding\n",
    "test.shape"
   ]
  },
  {
   "cell_type": "code",
   "execution_count": 7,
   "metadata": {},
   "outputs": [],
   "source": [
    "# Create labels for train and test data. Apple = 0 , Banana = 1.\n",
    "train_labels = np.array([[0],[0],[0],[1],[1],[1]]).astype(np.float32)"
   ]
  },
  {
   "cell_type": "code",
   "execution_count": 8,
   "metadata": {},
   "outputs": [],
   "source": [
    "# Initiate kNN, train the data, then test it with test data for k=1\n",
    "knn = cv2.ml.KNearest_create()\n",
    "knn.train(train, cv2.ml.ROW_SAMPLE, train_labels)\n",
    "ret,result,neighbours,dist = knn.findNearest(test,k=1)"
   ]
  },
  {
   "cell_type": "code",
   "execution_count": 9,
   "metadata": {},
   "outputs": [
    {
     "name": "stdout",
     "output_type": "stream",
     "text": [
      "I guess this is a banana!\n"
     ]
    }
   ],
   "source": [
    "# Print out result of classification\n",
    "if result == 0:\n",
    "    print('I guess this is an apple!')\n",
    "elif result == 1:\n",
    "    print('I guess this is a banana!')     "
   ]
  },
  {
   "cell_type": "markdown",
   "metadata": {},
   "source": [
    "## Image Classification using k-NN (MNIST dataset)"
   ]
  },
  {
   "cell_type": "code",
   "execution_count": 10,
   "metadata": {},
   "outputs": [],
   "source": [
    "# Import the image\n",
    "img = cv2.imread('../images/digits.png')\n",
    "gray = cv2.cvtColor(img,cv2.COLOR_BGR2GRAY)\n",
    "\n",
    "# Show the image to visualize\n",
    "cv2.imshow('img',img)\n",
    "cv2.waitKey(0)\n",
    "cv2.destroyAllWindows()"
   ]
  },
  {
   "cell_type": "code",
   "execution_count": 11,
   "metadata": {},
   "outputs": [],
   "source": [
    "# Now we split the image to 5000 cells, each 20x20 size\n",
    "cells = [np.hsplit(row,100) for row in np.vsplit(gray,50)]\n",
    "\n",
    "# Make it into a Numpy array. It size will be (50,100,20,20)\n",
    "x = np.array(cells)\n",
    "\n",
    "# Now we prepare train_data and test_data.\n",
    "train = x[:,:50].reshape(-1,400).astype(np.float32) # Size = (2500,400)\n",
    "test = x[:,50:100].reshape(-1,400).astype(np.float32) # Size = (2500,400)"
   ]
  },
  {
   "cell_type": "code",
   "execution_count": 12,
   "metadata": {},
   "outputs": [],
   "source": [
    "# Create labels for train and test data\n",
    "k = np.arange(10)\n",
    "train_labels = np.repeat(k,250)[:,np.newaxis]\n",
    "test_labels = train_labels.copy()"
   ]
  },
  {
   "cell_type": "code",
   "execution_count": 13,
   "metadata": {},
   "outputs": [],
   "source": [
    "# Initiate kNN, train the data, then test it with test data for k=1\n",
    "knn = cv2.ml.KNearest_create()\n",
    "knn.train(train, cv2.ml.ROW_SAMPLE, train_labels)\n",
    "ret,result,neighbours,dist = knn.findNearest(test,k=1)"
   ]
  },
  {
   "cell_type": "code",
   "execution_count": 14,
   "metadata": {},
   "outputs": [
    {
     "name": "stdout",
     "output_type": "stream",
     "text": [
      "92.0\n"
     ]
    }
   ],
   "source": [
    "# Now we check the accuracy of classification\n",
    "# For that, compare the result with test_labels and check which are wrong\n",
    "matches = result==test_labels\n",
    "correct = np.count_nonzero(matches)\n",
    "accuracy = correct*100.0/result.size\n",
    "print( accuracy )"
   ]
  },
  {
   "cell_type": "markdown",
   "metadata": {},
   "source": [
    "## Image Classification using k-NN (fashion dataset)"
   ]
  },
  {
   "cell_type": "code",
   "execution_count": 15,
   "metadata": {},
   "outputs": [
    {
     "name": "stdout",
     "output_type": "stream",
     "text": [
      "76.66666666666667\n"
     ]
    }
   ],
   "source": [
    "# Import the image\n",
    "img_fashion = cv2.imread('../images/fashion.png')\n",
    "fashion_gray = cv2.cvtColor(img_fashion,cv2.COLOR_BGR2GRAY)\n",
    "\n",
    "# Show the image to visualize\n",
    "\n",
    "# Now we split the image to 900 cells, each 28x28 size\n",
    "cells = [np.hsplit(row,30) for row in np.vsplit(fashion_gray,30)]\n",
    "\n",
    "# Make it into a Numpy array. It size will be (30,30,28,28)\n",
    "x = np.array(cells)\n",
    "\n",
    "# Now we prepare train_data and test_data.\n",
    "train = x[:,0:25].reshape(-1,784).astype(np.float32) # Size = (450,784)\n",
    "test = x[:,25:30].reshape(-1,784).astype(np.float32) # Size = (450,784)\n",
    "\n",
    "# Create labels for train and test data\n",
    "k = np.arange(10)\n",
    "train_labels = np.repeat(k,75)[:,np.newaxis]\n",
    "test_labels = np.repeat(k,15)[:,np.newaxis]\n",
    "#test_labels = train_labels.copy()\n",
    "\n",
    "# Initiate kNN, train the data, then test it with test data for k=1\n",
    "knn = cv2.ml.KNearest_create()\n",
    "knn.train(train, cv2.ml.ROW_SAMPLE, train_labels)\n",
    "ret,result,neighbours,dist = knn.findNearest(test,k=1)\n",
    "\n",
    "# Now we check the accuracy of classification\n",
    "# For that, compare the result with test_labels and check which are wrong\n",
    "matches = result==test_labels\n",
    "correct = np.count_nonzero(matches)\n",
    "accuracy = correct*100.0/result.size\n",
    "print( accuracy )"
   ]
  },
  {
   "cell_type": "code",
   "execution_count": null,
   "metadata": {},
   "outputs": [],
   "source": []
  }
 ],
 "metadata": {
  "kernelspec": {
   "display_name": "Python 3",
   "language": "python",
   "name": "python3"
  },
  "language_info": {
   "codemirror_mode": {
    "name": "ipython",
    "version": 3
   },
   "file_extension": ".py",
   "mimetype": "text/x-python",
   "name": "python",
   "nbconvert_exporter": "python",
   "pygments_lexer": "ipython3",
   "version": "3.7.3"
  }
 },
 "nbformat": 4,
 "nbformat_minor": 2
}
